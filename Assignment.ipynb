{
 "cells": [
  {
   "cell_type": "code",
   "execution_count": 1,
   "metadata": {},
   "outputs": [
    {
     "name": "stdout",
     "output_type": "stream",
     "text": [
      "Mamoun Hayel Abu Koush\n",
      "121300\n",
      " \"Tell me and I forget. Teach me and I may remember. Involve me and I learn\"\t -Benjamin Franklin \n"
     ]
    }
   ],
   "source": [
    "id = 121300\n",
    "name = \"Mamoun Hayel Abu Koush\"\n",
    "\n",
    "quote = \" \\\"Tell me and I forget. Teach me and I may remember. Involve me and I learn\\\"\t -Benjamin Franklin \"\n",
    "\n",
    "print (name)\n",
    "print (id)\n",
    "print (quote) "
   ]
  }
 ],
 "metadata": {
  "kernelspec": {
   "display_name": "Python 3",
   "language": "python",
   "name": "python3"
  },
  "language_info": {
   "codemirror_mode": {
    "name": "ipython",
    "version": 3
   },
   "file_extension": ".py",
   "mimetype": "text/x-python",
   "name": "python",
   "nbconvert_exporter": "python",
   "pygments_lexer": "ipython3",
   "version": "3.7.0"
  }
 },
 "nbformat": 4,
 "nbformat_minor": 2
}
